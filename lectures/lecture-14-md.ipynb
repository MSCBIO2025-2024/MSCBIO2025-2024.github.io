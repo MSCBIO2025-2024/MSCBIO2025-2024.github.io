{
 "cells": [
  {
   "cell_type": "code",
   "execution_count": null,
   "metadata": {
    "editable": true,
    "slideshow": {
     "slide_type": ""
    },
    "tags": []
   },
   "outputs": [],
   "source": [
    "from IPython.core.display import HTML\n",
    "\n",
    "def _set_css_style(css_file_path):\n",
    "   \"\"\"\n",
    "   Read the custom CSS file and load it into Jupyter.\n",
    "   Pass the file path to the CSS file.\n",
    "   \"\"\"\n",
    "\n",
    "   styles = open(css_file_path, \"r\").read()\n",
    "   s = '<style>%s</style>' % styles     \n",
    "   return HTML(s)\n",
    "\n",
    "_set_css_style('rise.css')"
   ]
  },
  {
   "cell_type": "markdown",
   "metadata": {
    "editable": true,
    "slideshow": {
     "slide_type": "slide"
    },
    "tags": []
   },
   "source": [
    "# Molecular dynamics analysis\n",
    "\n",
    "<a href=\"?print-pdf\">print view</a>  \n",
    "<a href=\"lecture-14-md.ipynb\" download>notebook</a>"
   ]
  },
  {
   "cell_type": "markdown",
   "metadata": {
    "editable": true,
    "slideshow": {
     "slide_type": "slide"
    },
    "tags": []
   },
   "source": [
    "## Molecular dynamics"
   ]
  },
  {
   "cell_type": "markdown",
   "metadata": {
    "editable": true,
    "slideshow": {
     "slide_type": ""
    },
    "tags": []
   },
   "source": [
    "The simulation of the physical motions of atoms using classical physics (Newton's equations of motion).\n",
    "\n",
    "* Forces determined by a *force field*\n",
    "* Biological force fields are primarily calibrated for proteins\n",
    "* Simulation done in a small box (usually only a few proteins)\n",
    "* Result is an approximation \n"
   ]
  },
  {
   "cell_type": "markdown",
   "metadata": {
    "editable": true,
    "slideshow": {
     "slide_type": "slide"
    },
    "tags": []
   },
   "source": [
    "<video width=\"784\" height=\"656\" controls>\n",
    "  <source src=\"images/eye6.mpeg\" type=\"video/webm\">\n",
    "</video> "
   ]
  },
  {
   "cell_type": "markdown",
   "metadata": {
    "editable": true,
    "slideshow": {
     "slide_type": "slide"
    },
    "tags": []
   },
   "source": [
    "## Why simulate?"
   ]
  },
  {
   "cell_type": "markdown",
   "metadata": {
    "editable": true,
    "slideshow": {
     "slide_type": ""
    },
    "tags": []
   },
   "source": [
    "* assess stability of model\n",
    "* observe dynamics of interactions\n",
    "* observe effects of mutations\n",
    "* compute properties of the ensemble\n",
    "* ...\n",
    "\n",
    "A typically simulation ranges from 10ns to 100ns, so we are limited in the sorts of processes that can be observed."
   ]
  },
  {
   "cell_type": "markdown",
   "metadata": {
    "editable": true,
    "slideshow": {
     "slide_type": "slide"
    },
    "tags": []
   },
   "source": [
    "## MD packages"
   ]
  },
  {
   "cell_type": "markdown",
   "metadata": {
    "editable": true,
    "slideshow": {
     "slide_type": ""
    },
    "tags": []
   },
   "source": [
    "Amber [http://ambermd.org](http://ambermd.org)\n",
    "\n",
    "* Fastest GPU implementation (in my experience)\n",
    "\n",
    "Gromacs [http://www.gromacs.org](http://www.gromacs.org)\n",
    "\n",
    "* Open-source (LGPL)\n",
    "\n",
    "NAMD [http://www.ks.uiuc.edu/Research/namd/](http://www.ks.uiuc.edu/Research/namd/)\n",
    "\n",
    "* Highly optimized for cluster computing\n",
    "* Integrated with VMD\n",
    "\n",
    "LAMMPS [http://lammps.sandia.gov](http://lammps.sandia.gov)\n",
    "\n",
    "* Open-source (GPL)\n"
   ]
  },
  {
   "cell_type": "markdown",
   "metadata": {
    "editable": true,
    "slideshow": {
     "slide_type": "slide"
    },
    "tags": []
   },
   "source": [
    "## Forcefields"
   ]
  },
  {
   "cell_type": "markdown",
   "metadata": {
    "editable": true,
    "slideshow": {
     "slide_type": ""
    },
    "tags": []
   },
   "source": [
    "The forcefield determines what forces are applied to each atom.  For example, electrostatic interactions and torsion angle potentials.  Examples of force field *families*:\n",
    "\n",
    "* CHARMM\n",
    "* Gromacs\n",
    "* OPLS\n",
    "* Amber\n",
    "\n",
    "$$V(r^N)=\\sum_\\text{bonds} k_b (l-l_0)^2 + \\sum_\\text{angles} k_a (\\theta - \\theta_0)^2 $$\n",
    "$$+ \\sum_\\text{torsions} \\frac{1}{2} V_n [1+\\cos(n \\omega- \\gamma)] \n",
    "+\\sum_{j=1} ^{N-1} \\sum_{i=j+1} ^N \\biggl\\{\\epsilon_{i,j}\\biggl[\\left(\\frac{r_{0ij}}{r_{ij}} \\right)^{12} - 2\\left(\\frac{r_{0ij}}{r_{ij}} \\right)^{6} \\biggr]+ \\frac{q_iq_j}{4\\pi \\epsilon_0 r_{ij}}\\biggr\\}\n",
    "$$\n"
   ]
  },
  {
   "cell_type": "markdown",
   "metadata": {
    "editable": true,
    "slideshow": {
     "slide_type": "slide"
    },
    "tags": []
   },
   "source": [
    "## Timestep\n",
    "\n",
    "Every timestep of the simulation (1 or 2 femtoseconds (10<sup>-15</sup>s)) all the forces exerted on every atom are calculated and the positions and velocities are updated appropriately according to Newton's laws of motion."
   ]
  },
  {
   "cell_type": "markdown",
   "metadata": {
    "editable": true,
    "slideshow": {
     "slide_type": "slide"
    },
    "tags": []
   },
   "source": [
    "## File formats"
   ]
  },
  {
   "cell_type": "markdown",
   "metadata": {
    "editable": true,
    "slideshow": {
     "slide_type": ""
    },
    "tags": []
   },
   "source": [
    "Different packages use different file formats and have different approaches to setting up and running a simulation.  Typically, to start a simulation you need\n",
    "\n",
    "* a configuration file that specifies how the simulation should be run\n",
    "* a topology of your system\n",
    "* initial coordinates of your system (may include velocities)\n",
    "\n",
    "The output of the simulation is a *trajectory* file."
   ]
  },
  {
   "cell_type": "code",
   "execution_count": null,
   "metadata": {
    "editable": true,
    "slideshow": {
     "slide_type": ""
    },
    "tags": []
   },
   "outputs": [],
   "source": [
    "!wget http://mscbio2025.csb.pitt.edu/files/shmt2.prmtop\n",
    "!wget http://mscbio2025.csb.pitt.edu/files/shmt2.dcd\n",
    "!wget http://mscbio2025.csb.pitt.edu/files/shmt2.inpcrd"
   ]
  },
  {
   "cell_type": "markdown",
   "metadata": {
    "editable": true,
    "slideshow": {
     "slide_type": "slide"
    },
    "tags": []
   },
   "source": [
    "## Configuration file"
   ]
  },
  {
   "cell_type": "markdown",
   "metadata": {
    "editable": true,
    "slideshow": {
     "slide_type": ""
    },
    "tags": []
   },
   "source": [
    "These are usually plain text and extremely obtuse without reading the documentation.\n",
    "\n",
    "Amber: \n",
    "<pre>    md of hsp27 implicit\n",
    "     &cntrl\n",
    "      imin = 0, ntb = 0,\n",
    "      igb = 1, ntpr = 100, ntwx = 5000, ntwr = 5000, ntpr = 5000,\n",
    "      ntt = 3, gamma_ln = 1.0,\n",
    "      tempi = 300.0, temp0 = 300.0\n",
    "      nstlim = 50000000, dt = 0.002,\n",
    "      ntc = 2, \n",
    "      cut = 999\n",
    "     /\n",
    "     </pre>\n",
    "     \n",
    "   "
   ]
  },
  {
   "cell_type": "markdown",
   "metadata": {
    "editable": true,
    "slideshow": {
     "slide_type": "slide"
    },
    "tags": []
   },
   "source": [
    "## Topology"
   ]
  },
  {
   "cell_type": "markdown",
   "metadata": {
    "editable": true,
    "slideshow": {
     "slide_type": ""
    },
    "tags": []
   },
   "source": [
    "The topology stores connectivity and atom type information about a model, but no coordinates.\n",
    "\n",
    "* .prmtop - Amber\n",
    "* .psf - NAMD\n",
    "* .top - Gromacs\n",
    "\n",
    "Typically you will create a topology from a PDB using the tools provided with the simulation package.  For example, you might use <tt>tleap</tt> in Amber to solvate the protein and create initial coordinates and a topology that includes information about your chosen forcefield."
   ]
  },
  {
   "cell_type": "code",
   "execution_count": null,
   "metadata": {
    "editable": true,
    "slideshow": {
     "slide_type": ""
    },
    "tags": []
   },
   "outputs": [],
   "source": [
    "!head -15 ../files/shmt2.prmtop"
   ]
  },
  {
   "cell_type": "markdown",
   "metadata": {
    "editable": true,
    "slideshow": {
     "slide_type": "slide"
    },
    "tags": []
   },
   "source": [
    "## Coordinates"
   ]
  },
  {
   "cell_type": "markdown",
   "metadata": {
    "editable": true,
    "slideshow": {
     "slide_type": ""
    },
    "tags": []
   },
   "source": [
    "A coordinate file provides the (x,y,z) coordinates of each atom in your system.  \n",
    "\n",
    "For most coordinate formats, the file is useless without the topology.\n",
    "\n",
    "Some formats also include velocities and/or energies and can be used to *restart* the simulation.\n",
    "\n",
    "* .pdb - Gromacs, NAMD\n",
    "* .inpcrd - Amber\n",
    "* .rst - Amber Restart"
   ]
  },
  {
   "cell_type": "code",
   "execution_count": null,
   "metadata": {
    "editable": true,
    "slideshow": {
     "slide_type": ""
    },
    "tags": []
   },
   "outputs": [],
   "source": [
    "!head ../files/shmt2.inpcrd"
   ]
  },
  {
   "cell_type": "markdown",
   "metadata": {
    "editable": true,
    "slideshow": {
     "slide_type": "slide"
    },
    "tags": []
   },
   "source": [
    "## Trajectory"
   ]
  },
  {
   "cell_type": "markdown",
   "metadata": {
    "editable": true,
    "slideshow": {
     "slide_type": ""
    },
    "tags": []
   },
   "source": [
    "The trajectory is the result of the simulation.  These files store the coordinates of every atom of the simulation for every output timestep of the simulation.\n",
    "\n",
    "These files can be huge, so the minimum amount of information is usually stored (i.e. just coordinates) and the file is useless without the topology.\n",
    "\n",
    "* .trj, .trr - Gromacs full trajectory\n",
    "* .xtc - Gromacs compressed trajectory\n",
    "* .dcd - NAMD\n",
    "* .mdcrd, .nc - Amber"
   ]
  },
  {
   "cell_type": "code",
   "execution_count": null,
   "metadata": {
    "editable": true,
    "slideshow": {
     "slide_type": ""
    },
    "tags": []
   },
   "outputs": [],
   "source": [
    "!head ../files/shmt2.dcd"
   ]
  },
  {
   "cell_type": "markdown",
   "metadata": {
    "editable": true,
    "slideshow": {
     "slide_type": "slide"
    },
    "tags": []
   },
   "source": [
    "## mdanalysis"
   ]
  },
  {
   "cell_type": "markdown",
   "metadata": {
    "editable": true,
    "slideshow": {
     "slide_type": ""
    },
    "tags": []
   },
   "source": [
    "[https://code.google.com/p/mdanalysis/](https://code.google.com/p/mdanalysis/)\n",
    "\n",
    "\"MDAnalysis is an object-oriented python toolkit to analyze molecular dynamics trajectories generated by CHARMM, Gromacs, NAMD, LAMMPS, or Amber.\""
   ]
  },
  {
   "cell_type": "code",
   "execution_count": null,
   "metadata": {
    "editable": true,
    "slideshow": {
     "slide_type": ""
    },
    "tags": []
   },
   "outputs": [],
   "source": [
    "import MDAnalysis\n",
    "\n",
    "universe = MDAnalysis.Universe('shmt2.prmtop', 'shmt2.dcd')"
   ]
  },
  {
   "cell_type": "markdown",
   "metadata": {
    "editable": true,
    "slideshow": {
     "slide_type": ""
    },
    "tags": []
   },
   "source": [
    "MDAnalysis starts with a topology and a trajectory.  "
   ]
  },
  {
   "cell_type": "markdown",
   "metadata": {
    "editable": true,
    "slideshow": {
     "slide_type": "slide"
    },
    "tags": []
   },
   "source": [
    "## Atom groups"
   ]
  },
  {
   "cell_type": "code",
   "execution_count": null,
   "metadata": {
    "editable": true,
    "slideshow": {
     "slide_type": ""
    },
    "tags": []
   },
   "outputs": [],
   "source": [
    "universe.atoms"
   ]
  },
  {
   "cell_type": "markdown",
   "metadata": {
    "editable": true,
    "slideshow": {
     "slide_type": ""
    },
    "tags": []
   },
   "source": [
    "You can select a specific group of atoms (very similar to ProDy) using atom selections."
   ]
  },
  {
   "cell_type": "code",
   "execution_count": null,
   "metadata": {
    "editable": true,
    "slideshow": {
     "slide_type": ""
    },
    "tags": []
   },
   "outputs": [],
   "source": [
    " universe.select_atoms(\"protein\")"
   ]
  },
  {
   "cell_type": "markdown",
   "metadata": {
    "editable": true,
    "slideshow": {
     "slide_type": "notes"
    },
    "tags": []
   },
   "source": [
    " "
   ]
  },
  {
   "cell_type": "markdown",
   "metadata": {
    "editable": true,
    "slideshow": {
     "slide_type": "slide"
    },
    "tags": []
   },
   "source": [
    "Selections can work directly on AtomGroups"
   ]
  },
  {
   "cell_type": "code",
   "execution_count": null,
   "metadata": {
    "editable": true,
    "slideshow": {
     "slide_type": ""
    },
    "tags": []
   },
   "outputs": [],
   "source": [
    " universe.select_atoms(\"resname PRO\")"
   ]
  },
  {
   "cell_type": "code",
   "execution_count": null,
   "metadata": {
    "editable": true,
    "slideshow": {
     "slide_type": "-"
    },
    "tags": []
   },
   "outputs": [],
   "source": [
    " universe.select_atoms(\"byres around 5 resid 370\")"
   ]
  },
  {
   "cell_type": "code",
   "execution_count": null,
   "metadata": {
    "editable": true,
    "slideshow": {
     "slide_type": ""
    },
    "tags": []
   },
   "outputs": [],
   "source": [
    "prot = universe.select_atoms(\"protein\")\n",
    "prot.select_atoms(\"byres around 5 resid 370\") #select whole residues within 5 of residue 100"
   ]
  },
  {
   "cell_type": "markdown",
   "metadata": {
    "editable": true,
    "slideshow": {
     "slide_type": "notes"
    },
    "tags": []
   },
   "source": [
    " "
   ]
  },
  {
   "cell_type": "markdown",
   "metadata": {
    "editable": true,
    "slideshow": {
     "slide_type": "slide"
    },
    "tags": []
   },
   "source": [
    "Like ProDy, can iterate over atoms"
   ]
  },
  {
   "cell_type": "code",
   "execution_count": null,
   "metadata": {
    "editable": true,
    "slideshow": {
     "slide_type": ""
    },
    "tags": []
   },
   "outputs": [],
   "source": [
    "for a in prot.atoms[:3]:\n",
    "    print(a)"
   ]
  },
  {
   "cell_type": "markdown",
   "metadata": {
    "editable": true,
    "slideshow": {
     "slide_type": ""
    },
    "tags": []
   },
   "source": [
    "Note that atoms retain information about residues (but generally not chains)"
   ]
  },
  {
   "cell_type": "code",
   "execution_count": null,
   "metadata": {
    "editable": true,
    "slideshow": {
     "slide_type": ""
    },
    "tags": []
   },
   "outputs": [],
   "source": [
    "print(a.resid,a.resname,a.resnum)"
   ]
  },
  {
   "cell_type": "markdown",
   "metadata": {
    "editable": true,
    "slideshow": {
     "slide_type": "notes"
    },
    "tags": []
   },
   "source": [
    " "
   ]
  },
  {
   "cell_type": "markdown",
   "metadata": {
    "editable": true,
    "slideshow": {
     "slide_type": "slide"
    },
    "tags": []
   },
   "source": [
    "## Residues\n",
    "\n",
    "AtomGroups can also be traversed and viewed at a residue level"
   ]
  },
  {
   "cell_type": "code",
   "execution_count": null,
   "metadata": {
    "editable": true,
    "slideshow": {
     "slide_type": ""
    },
    "tags": []
   },
   "outputs": [],
   "source": [
    "prot.residues"
   ]
  },
  {
   "cell_type": "markdown",
   "metadata": {
    "editable": true,
    "slideshow": {
     "slide_type": "notes"
    },
    "tags": []
   },
   "source": [
    " "
   ]
  },
  {
   "cell_type": "markdown",
   "metadata": {
    "editable": true,
    "slideshow": {
     "slide_type": "slide"
    },
    "tags": []
   },
   "source": [
    "## Trajectories"
   ]
  },
  {
   "cell_type": "code",
   "execution_count": null,
   "metadata": {
    "editable": true,
    "slideshow": {
     "slide_type": ""
    },
    "tags": []
   },
   "outputs": [],
   "source": [
    "universe.trajectory"
   ]
  },
  {
   "cell_type": "markdown",
   "metadata": {
    "editable": true,
    "slideshow": {
     "slide_type": ""
    },
    "tags": []
   },
   "source": [
    "The coordinates of atoms are determined by the current position in the trajectory (`trajectory.frame`)\n",
    "\n",
    "**The coordinates of selections refer to whatever the current trajectory frame is**\n",
    "\n",
    "The current frame is set by iterating over the trajectory or indexing into it."
   ]
  },
  {
   "cell_type": "code",
   "execution_count": null,
   "metadata": {
    "editable": true,
    "slideshow": {
     "slide_type": ""
    },
    "tags": []
   },
   "outputs": [],
   "source": [
    "for ts in universe.trajectory[:5]:\n",
    "    print(ts.frame, universe.trajectory.frame, ts.time, prot.center_of_mass())"
   ]
  },
  {
   "cell_type": "markdown",
   "metadata": {
    "editable": true,
    "slideshow": {
     "slide_type": "notes"
    },
    "tags": []
   },
   "source": [
    " "
   ]
  },
  {
   "cell_type": "markdown",
   "metadata": {
    "editable": true,
    "slideshow": {
     "slide_type": "slide"
    },
    "tags": []
   },
   "source": [
    "## Analysis"
   ]
  },
  {
   "cell_type": "markdown",
   "metadata": {
    "editable": true,
    "slideshow": {
     "slide_type": ""
    },
    "tags": []
   },
   "source": [
    "A number of packages have been contributed to MDAnalysis to perform common tasks."
   ]
  },
  {
   "cell_type": "code",
   "execution_count": null,
   "metadata": {
    "editable": true,
    "slideshow": {
     "slide_type": ""
    },
    "tags": []
   },
   "outputs": [],
   "source": [
    "import MDAnalysis.analysis"
   ]
  },
  {
   "cell_type": "markdown",
   "metadata": {
    "editable": true,
    "slideshow": {
     "slide_type": ""
    },
    "tags": []
   },
   "source": [
    "\n",
    "PACKAGE CONTENTS\n",
    "   * align - aligning structures\n",
    "   * contacts - native contact analysis\n",
    "   * density - compute water densities\n",
    "   * distances - for computing distances\n",
    "   * gnm \n",
    "   * hbonds - hydrogen bond analysis\n",
    "   * helanal - analysis of helices\n",
    "   * hole - for analyzing pores\n",
    "   * leaflet\n",
    "   * nuclinfo - analysis of nucleic acids\n",
    "   * psa - path simularity\n",
    "   * rms\n",
    "   * waterdynamics - water analysis\n",
    "   * x3dna - a different nucleic analysis\n",
    "    "
   ]
  },
  {
   "cell_type": "markdown",
   "metadata": {
    "editable": true,
    "slideshow": {
     "slide_type": "notes"
    },
    "tags": []
   },
   "source": [
    " "
   ]
  },
  {
   "cell_type": "markdown",
   "metadata": {
    "editable": true,
    "slideshow": {
     "slide_type": "slide"
    },
    "tags": []
   },
   "source": [
    "## Alignment"
   ]
  },
  {
   "cell_type": "code",
   "execution_count": null,
   "metadata": {
    "editable": true,
    "slideshow": {
     "slide_type": ""
    },
    "tags": []
   },
   "outputs": [],
   "source": [
    "from MDAnalysis.analysis.align import *"
   ]
  },
  {
   "cell_type": "markdown",
   "metadata": {
    "editable": true,
    "slideshow": {
     "slide_type": ""
    },
    "tags": []
   },
   "source": [
    "Can align a single structure with `alignto`\n",
    "\n",
    "Use `AlignTraj` to align and write out a full trajectory (trajectories are not kept in memory)"
   ]
  },
  {
   "cell_type": "code",
   "execution_count": null,
   "metadata": {
    "editable": true,
    "slideshow": {
     "slide_type": "-"
    },
    "tags": []
   },
   "outputs": [],
   "source": [
    "universe.trajectory[0]\n",
    "#if we align to ourselves, will fit to current frame\n",
    "alignment = AlignTraj(universe, universe, select='protein',filename='rmsfit.dcd')\n",
    "alignment.run()"
   ]
  },
  {
   "cell_type": "markdown",
   "metadata": {
    "editable": true,
    "slideshow": {
     "slide_type": "notes"
    },
    "tags": []
   },
   "source": [
    " "
   ]
  },
  {
   "cell_type": "markdown",
   "metadata": {
    "editable": true,
    "slideshow": {
     "slide_type": "slide"
    },
    "tags": []
   },
   "source": [
    "## MDAnalysis.rms"
   ]
  },
  {
   "cell_type": "code",
   "execution_count": null,
   "metadata": {
    "editable": true,
    "slideshow": {
     "slide_type": ""
    },
    "tags": []
   },
   "outputs": [],
   "source": [
    "from MDAnalysis.analysis.rms import *  #this pulls in an rmsd function"
   ]
  },
  {
   "cell_type": "markdown",
   "metadata": {
    "editable": true,
    "slideshow": {
     "slide_type": ""
    },
    "tags": []
   },
   "source": [
    "Root mean squared deviation (RMSD)\n",
    "$$\\sqrt{\\frac{\\sum_i^n(x_i^a-x_i^b)^2+(y_i^a-y_i^b)^2+(z_i^a-z_i^b)^2}{n}}$$"
   ]
  },
  {
   "cell_type": "code",
   "execution_count": null,
   "metadata": {
    "editable": true,
    "slideshow": {
     "slide_type": "slide"
    },
    "tags": []
   },
   "outputs": [],
   "source": [
    "universe.trajectory[0] #sets the current frame to the start\n",
    "refcoord = prot.positions # once stored, _coordinates_ do NOT change with trajectory\n",
    "refcoord"
   ]
  },
  {
   "cell_type": "code",
   "execution_count": null,
   "metadata": {
    "editable": true,
    "slideshow": {
     "slide_type": ""
    },
    "tags": []
   },
   "outputs": [],
   "source": [
    "universe.trajectory[-1] #last frame\n",
    "print(rmsd(refcoord,prot.positions))"
   ]
  },
  {
   "cell_type": "markdown",
   "metadata": {
    "editable": true,
    "slideshow": {
     "slide_type": "notes"
    },
    "tags": []
   },
   "source": [
    " "
   ]
  },
  {
   "cell_type": "markdown",
   "metadata": {
    "editable": true,
    "slideshow": {
     "slide_type": "slide"
    },
    "tags": []
   },
   "source": [
    "Plot both the all-protein and calpha only (`name CA`) rmsd with the first frame."
   ]
  },
  {
   "cell_type": "code",
   "execution_count": null,
   "metadata": {
    "editable": true,
    "slideshow": {
     "slide_type": "-"
    },
    "tags": []
   },
   "outputs": [],
   "source": [
    "universe.trajectory[0]\n",
    "protref = prot.positions\n",
    "caref = prot.select_atoms('name CA').positions"
   ]
  },
  {
   "cell_type": "code",
   "execution_count": null,
   "metadata": {
    "editable": true,
    "slideshow": {
     "slide_type": "-"
    },
    "tags": []
   },
   "outputs": [],
   "source": [
    "protrmsd = []\n",
    "carmsd = []\n",
    "for ts in universe.trajectory:\n",
    "    protrmsd.append(rmsd(protref,prot.positions))\n",
    "    carmsd.append(rmsd(caref,prot.select_atoms('name CA').positions))"
   ]
  },
  {
   "cell_type": "markdown",
   "metadata": {
    "editable": true,
    "slideshow": {
     "slide_type": "notes"
    },
    "tags": []
   },
   "source": [
    " "
   ]
  },
  {
   "cell_type": "code",
   "execution_count": null,
   "metadata": {
    "editable": true,
    "slideshow": {
     "slide_type": "slide"
    },
    "tags": []
   },
   "outputs": [],
   "source": [
    "import matplotlib.pylab as plt\n",
    "%matplotlib inline"
   ]
  },
  {
   "cell_type": "code",
   "execution_count": null,
   "metadata": {
    "editable": true,
    "slideshow": {
     "slide_type": "-"
    },
    "tags": []
   },
   "outputs": [],
   "source": [
    "n = universe.trajectory.n_frames\n",
    "plt.plot(range(n),protrmsd,range(n),carmsd)\n",
    "plt.xlabel(\"Frame #\")\n",
    "plt.ylabel('RMSD')\n",
    "plt.legend(['Protein','CA'],loc='lower right');"
   ]
  },
  {
   "cell_type": "markdown",
   "metadata": {
    "editable": true,
    "slideshow": {
     "slide_type": "notes"
    },
    "tags": []
   },
   "source": [
    " "
   ]
  },
  {
   "cell_type": "markdown",
   "metadata": {
    "editable": true,
    "slideshow": {
     "slide_type": "slide"
    },
    "tags": []
   },
   "source": [
    "## Project\n",
    "\n",
    "* Compute RMSDs\n",
    "    * between frame 0 and frame 40\n",
    "    * between frame 40 and frame 80\n",
    "    * between frame 0 and frame 80\n",
    "* Compute all RMSDs (put in a list)\n",
    "    * to starting frame\n",
    "    * to ending frame\n",
    "* Plot start/end RMSDs\n",
    "* Align protein to only resids 760-924, redo above"
   ]
  },
  {
   "cell_type": "code",
   "execution_count": null,
   "metadata": {
    "editable": true,
    "slideshow": {
     "slide_type": "notes"
    },
    "tags": []
   },
   "outputs": [],
   "source": [
    "import MDAnalysis\n",
    "from MDAnalysis.analysis.rms import *  #this pulls in an rmsd function\n",
    "\n",
    "universe = MDAnalysis.Universe('../files/shmt2.prmtop', '../files/shmt2.dcd')\n",
    "prot = universe.select_atoms('protein')\n",
    "\n",
    "startref = prot.positions\n",
    "universe.trajectory[-1]\n",
    "endref = prot.positions  \n",
    "\n",
    "startrmsd = []\n",
    "endrmsd = []\n",
    "for ts in universe.trajectory:\n",
    "    startrmsd.append(rmsd(startref,prot.positions))\n",
    "    endrmsd.append(rmsd(endref,prot.positions))"
   ]
  },
  {
   "cell_type": "markdown",
   "metadata": {
    "editable": true,
    "slideshow": {
     "slide_type": "notes"
    },
    "tags": []
   },
   "source": [
    " "
   ]
  }
 ],
 "metadata": {
  "celltoolbar": "Slideshow",
  "kernelspec": {
   "display_name": "Python 3 (ipykernel)",
   "language": "python",
   "name": "python3"
  },
  "language_info": {
   "codemirror_mode": {
    "name": "ipython",
    "version": 3
   },
   "file_extension": ".py",
   "mimetype": "text/x-python",
   "name": "python",
   "nbconvert_exporter": "python",
   "pygments_lexer": "ipython3",
   "version": "3.11.10"
  }
 },
 "nbformat": 4,
 "nbformat_minor": 4
}
