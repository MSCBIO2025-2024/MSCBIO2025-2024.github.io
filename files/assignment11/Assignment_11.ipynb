{
 "cells": [
  {
   "cell_type": "markdown",
   "id": "d7133e85-cbb6-4259-9d2c-ef09b8b44611",
   "metadata": {
    "editable": true,
    "slideshow": {
     "slide_type": ""
    },
    "tags": []
   },
   "source": [
    "# Assignment 11: Deep learning"
   ]
  },
  {
   "cell_type": "markdown",
   "id": "f2aea077-d232-4728-8de0-5bc6cbf7d5a2",
   "metadata": {
    "editable": true,
    "slideshow": {
     "slide_type": "slide"
    },
    "tags": []
   },
   "source": [
    "### This assignment is based on the CNN architecture we discussed in Lecture 23.\n",
    "\n",
    "In the class we went through a ResNet50 example. We acheived test accuracy of `0.6406`. \n",
    "1. Implement the code on your own and run it five times. The data can be found **[here](https://pitt-my.sharepoint.com/:f:/g/personal/shf28_pitt_edu/Er0_kT60sBpKnFvioL98WnIBpqzjR0cUM9DqncBWPtuoZQ?e=e50oxR)** (**Credit 30%**)\n",
    "2. List the test accuracy values you get.\n",
    "   - Are they the same or not? (**Credit 10%**)\n",
    "   - Why or why not? (**Credit 20%**)\n",
    "3. Modify the code to improve reproducibility. ((**Credit 40%**)\n",
    "4. Can we do better than the code we discussed in class? Using the code we discussed in class as the basis, modify the architecture of the feedforward neural network and/or allow retraining (unfreezing) of some of the last layers of ResNet50, so that the test accuracy improvoes beyond `0.6406`. The improvement can be marginal. (**Extra Credit 50%**)\n",
    "   \n",
    "### Write your answers in a txt file and email them to me. Be brief. For Problems 1, 3, and 4, you should also send your code.\n",
    "### Due date: 12/10/2024 @ 11:59pm."
   ]
  }
 ],
 "metadata": {
  "kernelspec": {
   "display_name": "Python 3 (ipykernel)",
   "language": "python",
   "name": "python3"
  },
  "language_info": {
   "codemirror_mode": {
    "name": "ipython",
    "version": 3
   },
   "file_extension": ".py",
   "mimetype": "text/x-python",
   "name": "python",
   "nbconvert_exporter": "python",
   "pygments_lexer": "ipython3",
   "version": "3.12.7"
  }
 },
 "nbformat": 4,
 "nbformat_minor": 5
}
