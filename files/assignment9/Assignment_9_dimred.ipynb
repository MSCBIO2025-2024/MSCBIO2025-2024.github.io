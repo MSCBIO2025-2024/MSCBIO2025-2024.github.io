{
 "cells": [
  {
   "cell_type": "markdown",
   "id": "d7133e85-cbb6-4259-9d2c-ef09b8b44611",
   "metadata": {
    "editable": true,
    "slideshow": {
     "slide_type": ""
    },
    "tags": []
   },
   "source": [
    "# Assignment 9: Dimensionality Reduction"
   ]
  },
  {
   "cell_type": "markdown",
   "id": "f2aea077-d232-4728-8de0-5bc6cbf7d5a2",
   "metadata": {
    "editable": true,
    "slideshow": {
     "slide_type": ""
    },
    "tags": []
   },
   "source": [
    "### In this assignment, you will perform dimensionality reduction of a single-cell RNA sequencing dataset using the techniques you learnt in the class lectures. \n",
    "### Your answers to the questions should be written into a txt file. The template for this text file is shown in `assignment9_template.txt`. \n",
    "### NOTE: The numbers in the file do NOT indicate the right answers. They are there to indicate the formatting for your answers."
   ]
  },
  {
   "cell_type": "markdown",
   "id": "f8ae19bc-9a58-4545-b952-dae244606245",
   "metadata": {
    "editable": true,
    "slideshow": {
     "slide_type": ""
    },
    "tags": []
   },
   "source": [
    "**Load** the single-cell data file _5k_pbmc_protein_v3_nextgem_filtered_feature_bc_matrix.h5_. Use _Scanpy_ library for it.\n",
    "1. **Credit 10%**: Print the shape of the data matrix you have loaded. Note it is an AnnData matrix.\n",
    "2. **Credit 15%**: Filter out cells with less than 200 genes. Print the shape of the resulting AnnData matrix.\n",
    "3. **Credit 15%**: Filter out genes from the AnnData matrix from the previous step, with less than 3 cells. Print the shape of the resulting data matrix.\n",
    "4. **Credit 15%**: Using _Scanpy_ library perform total-count normalization on the resulting AnnData matrix from the previous step. Set `target_sum` to be 10000. Then perform logarithmic transformation `log(1+x)`. Use Scanpy function for this also. Print the first non-zero value from the first column of the AnnData matrix with 3 decimal precision.\n",
    "5. **Credit 15%**: Using the _Scikit-learn_ library perform PCA on the resulting normalized and log transformed AnnData matrix. Set `n_components=50`. Print the values of the variance of top three and bottom 3 principal components ordered in decreasing order of their variance value.\n",
    "6. **Credit 30%**: Figure `dimensionality_reduction_comparison.png` is included with the assignment. It includes 1 PCA plot, 3 t-SNE plots and 3 UMAP plots. The t-SNE plots have different `perplexity` values: 30, 50, 100. The UMAP plots have varying `n_neighbors`: 5, 15, 30 but fixed `min_dist=0.1`. Both t-SNE and UMAP use `random_state=42`. The PCA plot includes the top 2 principal components. Your assignment is to label them with their correct type . Going in the `row-major` order, order the subplots with correct values. For example,\n",
    "   - if you think the order is 1. PCA; 2. t-SNE with perplexity value of 50; 3. UMAP with n_neighbors = 5; 4. t-SNE (perplexity=100); 5. t-SNE (perplexity=30); 6. UMAP (n_neighbors = 30); 7. UMAP (n_neighbors = 15);\n",
    "   - then, write 0, 50, 5_1, 100, 30, 30_1, 15_1\n",
    "   - In the above representation we have denoted PCA as 0, indicated t-SNE with their perplexity values, and the UMAP by their n_neighbors value along with a suffix of `_1`.\n",
    "### **Solution**: Compile all the answers for the above questions in a txt file formatted as in `assignment9_template.txt`. NOTE: The numbers in the file do NOT indicate the right answers. They are there to indicate the formatting for your answers.\n",
    "## Email the txt file to me at shf28@pitt.edu.\n",
    "# Due date and time: Nov 10, 2024 @ 11.59 pm. NOTE: Any txt file with a later timestamp, will automatically be assigned a 0."
   ]
  },
  {
   "cell_type": "code",
   "execution_count": null,
   "id": "862d3940-3efd-4c18-9a70-0ed43706bb37",
   "metadata": {
    "editable": true,
    "slideshow": {
     "slide_type": ""
    },
    "tags": []
   },
   "outputs": [],
   "source": []
  }
 ],
 "metadata": {
  "kernelspec": {
   "display_name": "Python 3 (ipykernel)",
   "language": "python",
   "name": "python3"
  },
  "language_info": {
   "codemirror_mode": {
    "name": "ipython",
    "version": 3
   },
   "file_extension": ".py",
   "mimetype": "text/x-python",
   "name": "python",
   "nbconvert_exporter": "python",
   "pygments_lexer": "ipython3",
   "version": "3.12.7"
  }
 },
 "nbformat": 4,
 "nbformat_minor": 5
}
