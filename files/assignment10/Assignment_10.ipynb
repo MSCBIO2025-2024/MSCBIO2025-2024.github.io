{
 "cells": [
  {
   "cell_type": "markdown",
   "id": "d7133e85-cbb6-4259-9d2c-ef09b8b44611",
   "metadata": {
    "editable": true,
    "slideshow": {
     "slide_type": ""
    },
    "tags": []
   },
   "source": [
    "# Assignment 10: Machine learning"
   ]
  },
  {
   "cell_type": "markdown",
   "id": "f2aea077-d232-4728-8de0-5bc6cbf7d5a2",
   "metadata": {
    "editable": true,
    "slideshow": {
     "slide_type": ""
    },
    "tags": []
   },
   "source": [
    "### This assignment has two parts. Part A focusses on Expectation Maximization and Part B on SVM and Random Forest. Unlike the previous homework, here you will generate your own dataset to solve the problems. \n",
    "### Your answers to the questions should be written into a txt file. The template for this text file is shown in `assignment10_template.txt`. \n",
    "### NOTE 1: For the problems below, where needed set **np.random.seed(30)**, and **random_state** to **30**.\n",
    "### NOTE 2: The numbers in the file do **NOT** indicate the right answers. They are there to indicate the formatting for your answers."
   ]
  },
  {
   "cell_type": "markdown",
   "id": "f8ae19bc-9a58-4545-b952-dae244606245",
   "metadata": {
    "editable": true,
    "slideshow": {
     "slide_type": ""
    },
    "tags": []
   },
   "source": [
    "**PART A** \n",
    "\n",
    "Generate a 2D Gaussian mixture model data comprising of 1000 data points samples from three Gaussian distributions with the following parameters: Gaussian 1 parameters: [3, 3] and  [[0.5, 0.2], [0.2, 0.5]]; Gaussian 2 parameters = [5, 5] and [[0.6, -0.4], [-0.4, 0.6]]; and Gaussian 3 parameters: [6, 2] and [[0.4, 0.1], [0.1, 0.4]]. Mixture weights: [0.3, 0.5, 0.2]. You can use `np.random.multivariate_normal` function.\n",
    "1. **Credit 20%**: Perform expectation maximization of Gaussian mixture model assuming GMM includes 2,3,4 and 5 gaussian distributions. For each of the mixtures compute their weights. (Set init_params to k-means++ and max_iter to 1000).\n",
    "2. **Extra Credit (20%)**: If you had not know that the data included three Gaussians, how would you figure it out from the above data set. Submit a short single sentence answer.\n",
    "3. **Credit 20%**: Perform k-means clustering for k=3 (correct number).\n",
    "   - Measure its quality computing the 'silhouette'.\n",
    "   - Is the clustering: good, okay, or bad.  \n",
    "4. **Credit 20%**: Using the clustered data as labeled data (features + labels) perform a k=3 class classification (use logistic regression). What is the average accuracy of this classifier based on 10-fold cross-validation.\n",
    "\n",
    "**PART B**\n",
    "\n",
    "- Using `make_classification` function from `sklearn.datasets` generate a dataset with 1000 samples, with each sample with 20 features, and belonging to one of 2 classes.\n",
    "- Generate training and testing data using an 80/20 split\n",
    "- Scale the training and testing data usin the `StandardScaler` function from `sklearn.preprocessing`.\n",
    "\n",
    "5. **Credit 10%**: Implement 5-fold cross-validation for both SVM and RF models. Calculate and return the average of their mean cross-validation scores.\n",
    "6. **Credits 10%**: Train both SVM (`kernel = 'rbf'`) and RF models on the training data. Calculate the ROC AUC score for each model on the test data. Return the average of these two scores.\n",
    "7. **Credits 10%**: Using the trained models, calculate the Precision-Recall AUC for both SVM and RF.\n",
    "8. **Credits 10%**: Compare the performance of SVM and RF models on the test set using the `accuracy` metric. Calculate and return the absolute difference between their accuracies.\n",
    "\n",
    "### **Solution**: Compile all the answers for the above questions in a txt file formatted as in `assignment10_template.txt`. NOTE: The numbers in the file do NOT indicate the right answers. They are there to indicate the formatting for your answers.\n",
    "## Email the txt file to me at shf28@pitt.edu.\n",
    "# Due date and time: Nov 24, 2024 @ 11.59 pm. NOTE: Any txt file with a later timestamp, will automatically be assigned a 0."
   ]
  }
 ],
 "metadata": {
  "kernelspec": {
   "display_name": "Python 3 (ipykernel)",
   "language": "python",
   "name": "python3"
  },
  "language_info": {
   "codemirror_mode": {
    "name": "ipython",
    "version": 3
   },
   "file_extension": ".py",
   "mimetype": "text/x-python",
   "name": "python",
   "nbconvert_exporter": "python",
   "pygments_lexer": "ipython3",
   "version": "3.12.7"
  }
 },
 "nbformat": 4,
 "nbformat_minor": 5
}
